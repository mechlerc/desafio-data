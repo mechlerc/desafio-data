{
 "cells": [
  {
   "cell_type": "markdown",
   "metadata": {},
   "source": [
    "# Transcrição DNA>RNA"
   ]
  },
  {
   "cell_type": "markdown",
   "metadata": {},
   "source": [
    "## Solução 1:"
   ]
  },
  {
   "cell_type": "code",
   "execution_count": 24,
   "metadata": {},
   "outputs": [],
   "source": [
    "def dna_to_rna(dna):\n",
    "    \"\"\"\n",
    "    Retorna uma transcrição da sequência de DNA\n",
    "    para uma sequência de RNA.\n",
    "    \n",
    "    Solução usando o metodo 'replace'.\n",
    "    \"\"\"\n",
    "    \n",
    "    # uso de caracteres especiais\n",
    "    # para não substituir repetidos\n",
    "    rna = dna.replace(\"G\",\"1\")\n",
    "    rna = rna.replace(\"C\",\"2\") \n",
    "    rna = rna.replace(\"T\",\"3\")\n",
    "    rna = rna.replace(\"A\",\"4\")\n",
    "    rna = rna.replace(\"1\",\"C\")\n",
    "    rna = rna.replace(\"2\",\"G\")\n",
    "    rna = rna.replace(\"3\",\"A\")\n",
    "    rna = rna.replace(\"4\",\"U\")\n",
    "    \n",
    "    return f\"DNA: {dna} > RNA: {rna}\""
   ]
  },
  {
   "cell_type": "markdown",
   "metadata": {},
   "source": [
    "Para o caso de transformar a função para conversão de RNA>DNA, seria necessário alterar os 4 primeiros caracteres da sequência de DNA pela RNA e vice-versa.\n",
    "O uso de caracteres especiais, como os números nesta solução, permanece o mesmo."
   ]
  },
  {
   "cell_type": "markdown",
   "metadata": {},
   "source": [
    "## Solução 2:"
   ]
  },
  {
   "cell_type": "code",
   "execution_count": 25,
   "metadata": {},
   "outputs": [],
   "source": [
    "def dna_to_rna2(dna):\n",
    "    \"\"\"\n",
    "    Retorna uma transcrição da sequência de DNA\n",
    "    para uma sequência de RNA.\n",
    "\n",
    "    Solução usando construção de uma string.\n",
    "    \"\"\"\n",
    "\n",
    "    # cria string vazia\n",
    "    rna = \"\"\n",
    "\n",
    "    for i in range (len(dna)):\n",
    "\n",
    "        if dna[i] == \"G\":\n",
    "            # adiciona caractere à variável\n",
    "            rna += \"C\"\n",
    "\n",
    "        elif dna[i] == \"C\":\n",
    "            rna += \"G\"\n",
    "\n",
    "        elif dna[i] == \"T\":\n",
    "            rna += \"A\"\n",
    "            \n",
    "        else:\n",
    "            rna += \"U\"\n",
    "\n",
    "    return f\"DNA: {dna} > RNA: {rna}\""
   ]
  },
  {
   "cell_type": "markdown",
   "metadata": {},
   "source": [
    "Por tratar-se de uma construção de string a partir da checagem de cada elemento contido na variável,\n",
    "basta trocar o caractere usado na checagem pelo caractere adicionado à string. \n",
    "Em ambas as soluções seria necessário atualizar o nome das variáveis."
   ]
  },
  {
   "cell_type": "markdown",
   "metadata": {},
   "source": [
    "## Testes"
   ]
  },
  {
   "cell_type": "code",
   "execution_count": 26,
   "metadata": {},
   "outputs": [
    {
     "name": "stdout",
     "output_type": "stream",
     "text": [
      "DNA: TACCGGATGCTT > RNA: AUGGCCUACGAA DNA: ACTGATA > RNA: UGACUAU\n"
     ]
    }
   ],
   "source": [
    "rna1 = dna_to_rna(\"TACCGGATGCTT\")\n",
    "rna2 = dna_to_rna(\"ACTGATA\")\n",
    "\n",
    "print(rna1,rna2)"
   ]
  },
  {
   "cell_type": "code",
   "execution_count": null,
   "metadata": {},
   "outputs": [],
   "source": [
    "rna3 = dna_to_rna2(\"TACCGGATGCTT\")\n",
    "print(rna3)"
   ]
  },
  {
   "cell_type": "markdown",
   "metadata": {},
   "source": [
    "# Fibonacci"
   ]
  },
  {
   "cell_type": "markdown",
   "metadata": {},
   "source": [
    "## Solução 1:"
   ]
  },
  {
   "cell_type": "code",
   "execution_count": 27,
   "metadata": {},
   "outputs": [],
   "source": [
    "def fibonacci (n):\n",
    "    \"\"\"\n",
    "    Retorna o n-ésimo termo da sequência de Fibonacci.\n",
    "\n",
    "    Solução a partir da lógica matemática.\n",
    "    \"\"\"\n",
    "\n",
    "    # definição das posições iniciais\n",
    "    x_n = 0\n",
    "    # termo antecessor\n",
    "    x_2 = 1\n",
    "    # 2x antecessor\n",
    "    x_1 = 1\n",
    "\n",
    "    if n > 2:\n",
    "        for el in range (2,n):\n",
    "            x_n = x_1 + x_2 # o n-ésimo termo será o somatório dos seus 2 antecessores\n",
    "            x_2,x_1 = x_1,x_n # atualizando os novos antecessores\n",
    "    \n",
    "    else:\n",
    "        x_n = 1\n",
    "\n",
    "    return x_n\n"
   ]
  },
  {
   "cell_type": "markdown",
   "metadata": {},
   "source": [
    "## Solução 2:"
   ]
  },
  {
   "cell_type": "code",
   "execution_count": 28,
   "metadata": {},
   "outputs": [],
   "source": [
    "def fibonacci2(n):\n",
    "    \"\"\"\n",
    "    Retorna o n-ésimo termo da sequência de Fibonacci.\n",
    "\n",
    "    Solução usando recursão.\n",
    "    \"\"\"\n",
    "    \n",
    "    if n==1 or n==2:\n",
    "        return 1\n",
    "    else:\n",
    "        return fibonacci2(n-1)+fibonacci2(n-2)"
   ]
  },
  {
   "cell_type": "markdown",
   "metadata": {},
   "source": [
    "A principal diferença entre as soluções é o tempo de processamento que cada função levará. Caso o \"n\" seja um valor alto, a segunda solução tende a levar mais tempo que a primeira por ter que executar ela mesma várias vezes, inclusive calculando o mesmo valor mais de uma vez. "
   ]
  },
  {
   "cell_type": "markdown",
   "metadata": {},
   "source": [
    "## Sequência:"
   ]
  },
  {
   "cell_type": "code",
   "execution_count": 29,
   "metadata": {},
   "outputs": [],
   "source": [
    "def fibonacci_seq (n):\n",
    "    \"\"\"\n",
    "    Retorna uma lista de termos da sequência de Fibonacci\n",
    "    até o n-ésimo termo.\n",
    "    \"\"\"\n",
    "\n",
    "    seq = []\n",
    "    for i in range(1,n+1):\n",
    "        seq.append(fibonacci(i))\n",
    "    \n",
    "    return seq"
   ]
  },
  {
   "cell_type": "markdown",
   "metadata": {},
   "source": [
    "## Testes"
   ]
  },
  {
   "cell_type": "code",
   "execution_count": 52,
   "metadata": {},
   "outputs": [
    {
     "name": "stdout",
     "output_type": "stream",
     "text": [
      "1 2 5 21 610 10946\n"
     ]
    }
   ],
   "source": [
    "n_2 = fibonacci(2)\n",
    "n_5 = fibonacci(5)\n",
    "n_21 = fibonacci(21)\n",
    "n_3 = fibonacci2(3)\n",
    "n_8 = fibonacci2(8)\n",
    "n_15 = fibonacci2(15)\n",
    "print(n_2,n_3,n_5,n_8,n_15,n_21)"
   ]
  },
  {
   "cell_type": "code",
   "execution_count": 31,
   "metadata": {},
   "outputs": [
    {
     "name": "stdout",
     "output_type": "stream",
     "text": [
      "[1, 1, 2, 3, 5, 8, 13, 21, 34, 55]\n"
     ]
    }
   ],
   "source": [
    "lista_fib = fibonacci_seq(10)\n",
    "print(lista_fib)"
   ]
  },
  {
   "cell_type": "markdown",
   "metadata": {},
   "source": [
    "# Exportar"
   ]
  },
  {
   "cell_type": "code",
   "execution_count": 32,
   "metadata": {},
   "outputs": [],
   "source": [
    "import webbrowser\n",
    "from fpdf import FPDF"
   ]
  },
  {
   "cell_type": "code",
   "execution_count": 54,
   "metadata": {},
   "outputs": [
    {
     "data": {
      "text/plain": [
       "True"
      ]
     },
     "execution_count": 54,
     "metadata": {},
     "output_type": "execute_result"
    }
   ],
   "source": [
    "pdf = FPDF()\n",
    "pdf.add_page()\n",
    "\n",
    "# resposta desafio 00\n",
    "pdf.set_font(family='Helvetica', style='B', size=14)\n",
    "pdf.cell(200,10, txt= \"Transcrição DNA>RNA\", ln=1, align='C')\n",
    "pdf.set_font(family='Helvetica', size=9)\n",
    "pdf.multi_cell(80,5, txt=rna1+'\\n'+rna2, align='L')\n",
    "\n",
    "# resposta desafio 01\n",
    "pdf.set_font(family='Helvetica', style='B', size=14)\n",
    "pdf.cell(200,10, txt= \"Fibonacci\", ln=1, align='C')\n",
    "pdf.set_font(family='Helvetica', size=9)\n",
    "pdf.multi_cell(80,5, txt=f'n=2 >> {n_2}'+'\\n'+f'n=5 >> {n_5}'+'\\n'+f'n=21 >> {n_21}'+'\\n'+f'Sequência de fibonacci: {lista_fib}', align='L')\n",
    "\n",
    "pdf.output('res_desafios_00-01.pdf')\n",
    "#webbrowser.open_new('res_desafios_00-01.pdf')"
   ]
  },
  {
   "cell_type": "markdown",
   "metadata": {},
   "source": [
    "## "
   ]
  }
 ],
 "metadata": {
  "interpreter": {
   "hash": "df0893f56f349688326838aaeea0de204df53a132722cbd565e54b24a8fec5f6"
  },
  "kernelspec": {
   "display_name": "Python 3.8.0 64-bit",
   "language": "python",
   "name": "python3"
  },
  "language_info": {
   "codemirror_mode": {
    "name": "ipython",
    "version": 3
   },
   "file_extension": ".py",
   "mimetype": "text/x-python",
   "name": "python",
   "nbconvert_exporter": "python",
   "pygments_lexer": "ipython3",
   "version": "3.6.9"
  },
  "orig_nbformat": 4
 },
 "nbformat": 4,
 "nbformat_minor": 2
}
